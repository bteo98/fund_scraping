{
 "cells": [
  {
   "cell_type": "code",
   "execution_count": 36,
   "metadata": {},
   "outputs": [],
   "source": [
    "from bs4 import BeautifulSoup\n",
    "\n",
    "import requests\n",
    "# Send the mail\n",
    "import smtplib\n",
    "# email body\n",
    "from email.mime.multipart import MIMEMultipart\n",
    "from email.mime.text import MIMEText\n",
    "# system date and time manipulation\n",
    "import datetime\n",
    "import re"
   ]
  },
  {
   "cell_type": "code",
   "execution_count": 119,
   "metadata": {},
   "outputs": [],
   "source": [
    "FUNDS = {\n",
    "    'BlackRock Next Generation Technology Fund': 'https://endowus.com/investment-funds-list/blackrock-bgf-next-generation-technology-fund-LU2290526321',\n",
    "    'BlackRock World Technology Fund': 'https://endowus.com/investment-funds-list/blackrock-bgf-world-technology-fund-LU1852331112',\n",
    "    'JP Morgan China Fund': 'https://endowus.com/investment-funds-list/jp-morgan-china-a-share-opportunities-fund-LU1655091616',\n",
    "    'Franklin Technology Fund': 'https://endowus.com/investment-funds-list/franklin-templeton-franklin-technology-fund-LU1803068979',\n",
    "    'Franklin U.S. Fund': 'https://endowus.com/investment-funds-list/franklin-templeton-u.s.-opportunities-fund-LU0320765059',\n",
    "    'Schroders Climate Change Fund': 'https://endowus.com/investment-funds-list/schroders-isf-global-climate-change-fund-LU0312595415',\n",
    "    'Schroders Global Growth Fund': 'https://endowus.com/investment-funds-list/schroders-isf-global-sustainable-growth-fund-LU2289884723'\n",
    "}\n",
    "\n",
    "now = datetime.datetime.now()"
   ]
  },
  {
   "cell_type": "code",
   "execution_count": 121,
   "metadata": {},
   "outputs": [],
   "source": [
    "content = '''\n",
    "<head>\n",
    "<style>\n",
    "table {\n",
    "  font-family: arial, sans-serif;\n",
    "  border-collapse: collapse;\n",
    "  width: 100%;\n",
    "}\n",
    "\n",
    "td, th {\n",
    "  border: 1px solid #dddddd;\n",
    "  text-align: left;\n",
    "  padding: 8px;\n",
    "}\n",
    "\n",
    "tr:nth-child(even) {\n",
    "  background-color: #dddddd;\n",
    "}\n",
    "\n",
    "a {\n",
    "    color: #0472ff;\n",
    "    text-decoration: none;\n",
    "}\n",
    "</style>\n",
    "</head>\n",
    "<body>\n",
    "\n",
    "<h2>Investment Portfolio</h2>\n",
    "\n",
    "<table>\n",
    "  <tr>\n",
    "    <th>Fund</th>\n",
    "    <th>NAV</th>\n",
    "    <th>Change</th>\n",
    "    <th>Last Update</th>\n",
    "  </tr>\n",
    "'''"
   ]
  },
  {
   "cell_type": "code",
   "execution_count": 90,
   "metadata": {},
   "outputs": [],
   "source": [
    "def get_fund_code(fund):\n",
    "    return fund.split('-')[-1]"
   ]
  },
  {
   "cell_type": "code",
   "execution_count": 99,
   "metadata": {},
   "outputs": [],
   "source": [
    "def get_day_change(soup):\n",
    "    result = soup.find_all('span', class_='mod-ui-data-list__value')\n",
    "    nav = result[0].text\n",
    "    delta = result[1].text.split('/')[-1]\n",
    "    delta = delta.strip()\n",
    "    return nav, delta"
   ]
  },
  {
   "cell_type": "code",
   "execution_count": 114,
   "metadata": {},
   "outputs": [],
   "source": [
    "def get_updated_date(soup):\n",
    "    result = soup.find_all('div', class_='mod-disclaimer')\n",
    "    result_list = result[0].text.split(' ')\n",
    "    month = result_list[-3]\n",
    "    day = result_list[-2]\n",
    "    year = result_list[-1][:-1]\n",
    "    return f'{day} {month}, {year}'"
   ]
  },
  {
   "cell_type": "code",
   "execution_count": 116,
   "metadata": {},
   "outputs": [],
   "source": [
    "def get_fund_soup(fund_code):\n",
    "    link = f'https://markets.ft.com/data/funds/tearsheet/summary?s={fund_code}:SGD'\n",
    "    resp = requests.get(link)\n",
    "    return BeautifulSoup(resp.content, 'html.parser')"
   ]
  },
  {
   "cell_type": "code",
   "execution_count": 130,
   "metadata": {},
   "outputs": [],
   "source": [
    "def convert_to_html(fund_name, fund_detail, nav, delta, updated_date):\n",
    "    return f'''\n",
    "        <tr>\n",
    "            <td>\n",
    "                <a href={fund_detail} target=\"_blank\">\n",
    "                    {fund_name}\n",
    "                </a>\n",
    "            </td>\n",
    "            <td>\n",
    "                {nav}\n",
    "            </td>\n",
    "            <td>\n",
    "                {delta}\n",
    "            </td>\n",
    "            <td>\n",
    "                {updated_date}\n",
    "            </td>\n",
    "        </tr>\n",
    "    '''"
   ]
  },
  {
   "cell_type": "code",
   "execution_count": 131,
   "metadata": {},
   "outputs": [
    {
     "data": {
      "text/plain": [
       "'<head><style>table {  font-family: arial, sans-serif;  border-collapse: collapse;  width: 100%;}td, th {  border: 1px solid #dddddd;  text-align: left;  padding: 8px;}tr:nth-child(even) {  background-color: #dddddd;}a {    color: #0472ff;    text-decoration: none;}</style></head><body><h2>Investment Portfolio</h2><table>  <tr>    <th>Fund</th>    <th>NAV</th>    <th>Change</th>    <th>Last Update</th>  </tr>        <tr>            <td>                <a href=https://endowus.com/investment-funds-list/blackrock-bgf-next-generation-technology-fund-LU2290526321>                    BlackRock Next Generation Technology Fund                </a>            </td>            <td>                10.20            </td>            <td>                0.39%            </td>            <td>                05 Nov, 2021            </td>        </tr>            <tr>            <td>                <a href=https://endowus.com/investment-funds-list/blackrock-bgf-world-technology-fund-LU1852331112>                    BlackRock World Technology Fund                </a>            </td>            <td>                24.50            </td>            <td>                0.33%            </td>            <td>                05 Nov, 2021            </td>        </tr>            <tr>            <td>                <a href=https://endowus.com/investment-funds-list/jp-morgan-china-a-share-opportunities-fund-LU1655091616>                    JP Morgan China Fund                </a>            </td>            <td>                20.71            </td>            <td>                -0.62%            </td>            <td>                05 Nov, 2021            </td>        </tr>            <tr>            <td>                <a href=https://endowus.com/investment-funds-list/franklin-templeton-franklin-technology-fund-LU1803068979>                    Franklin Technology Fund                </a>            </td>            <td>                27.74            </td>            <td>                0.76%            </td>            <td>                05 Nov, 2021            </td>        </tr>            <tr>            <td>                <a href=https://endowus.com/investment-funds-list/franklin-templeton-u.s.-opportunities-fund-LU0320765059>                    Franklin U.S. Fund                </a>            </td>            <td>                41.00            </td>            <td>                0.34%            </td>            <td>                05 Nov, 2021            </td>        </tr>            <tr>            <td>                <a href=https://endowus.com/investment-funds-list/schroders-isf-global-climate-change-fund-LU0312595415>                    Schroders Climate Change Fund                </a>            </td>            <td>                25.42            </td>            <td>                -0.04%            </td>            <td>                05 Nov, 2021            </td>        </tr>            <tr>            <td>                <a href=https://endowus.com/investment-funds-list/schroders-isf-global-sustainable-growth-fund-LU2289884723>                    Schroders Global Growth Fund                </a>            </td>            <td>                118.82            </td>            <td>                0.67%            </td>            <td>                05 Nov, 2021            </td>        </tr>            <tr>            <td>                <a href=https://endowus.com/investment-funds-list/blackrock-bgf-next-generation-technology-fund-LU2290526321>                    BlackRock Next Generation Technology Fund                </a>            </td>            <td>                10.20            </td>            <td>                0.39%            </td>            <td>                05 Nov, 2021            </td>        </tr>            <tr>            <td>                <a href=https://endowus.com/investment-funds-list/blackrock-bgf-world-technology-fund-LU1852331112>                    BlackRock World Technology Fund                </a>            </td>            <td>                24.50            </td>            <td>                0.33%            </td>            <td>                05 Nov, 2021            </td>        </tr>            <tr>            <td>                <a href=https://endowus.com/investment-funds-list/jp-morgan-china-a-share-opportunities-fund-LU1655091616>                    JP Morgan China Fund                </a>            </td>            <td>                20.71            </td>            <td>                -0.62%            </td>            <td>                05 Nov, 2021            </td>        </tr>            <tr>            <td>                <a href=https://endowus.com/investment-funds-list/franklin-templeton-franklin-technology-fund-LU1803068979>                    Franklin Technology Fund                </a>            </td>            <td>                27.74            </td>            <td>                0.76%            </td>            <td>                05 Nov, 2021            </td>        </tr>            <tr>            <td>                <a href=https://endowus.com/investment-funds-list/franklin-templeton-u.s.-opportunities-fund-LU0320765059>                    Franklin U.S. Fund                </a>            </td>            <td>                41.00            </td>            <td>                0.34%            </td>            <td>                05 Nov, 2021            </td>        </tr>            <tr>            <td>                <a href=https://endowus.com/investment-funds-list/schroders-isf-global-climate-change-fund-LU0312595415>                    Schroders Climate Change Fund                </a>            </td>            <td>                25.42            </td>            <td>                -0.04%            </td>            <td>                05 Nov, 2021            </td>        </tr>            <tr>            <td>                <a href=https://endowus.com/investment-funds-list/schroders-isf-global-sustainable-growth-fund-LU2289884723>                    Schroders Global Growth Fund                </a>            </td>            <td>                118.82            </td>            <td>                0.67%            </td>            <td>                05 Nov, 2021            </td>        </tr>    '"
      ]
     },
     "execution_count": 131,
     "metadata": {},
     "output_type": "execute_result"
    }
   ],
   "source": [
    "for fund_name, fund_detail in FUNDS.items():\n",
    "    fund_code = get_fund_code(fund_detail)\n",
    "    soup = get_fund_soup(fund_code)\n",
    "    nav, delta = get_day_change(soup)\n",
    "    updated_date = get_updated_date(soup)\n",
    "    content += convert_to_html(fund_name, fund_detail, nav, delta, updated_date)\n",
    "content.replace('\\n', '')"
   ]
  },
  {
   "cell_type": "code",
   "execution_count": 122,
   "metadata": {},
   "outputs": [],
   "source": [
    "fund_name = 'Schroders Climate Change Fund' \n",
    "nav = '25.42' \n",
    "delta = '-0.04%' \n",
    "updated_date = '05 Nov, 2021'"
   ]
  },
  {
   "cell_type": "code",
   "execution_count": 125,
   "metadata": {},
   "outputs": [
    {
     "data": {
      "text/plain": [
       "'\\n    <tr>\\n        <td>\\n            <a href=https://endowus.com/investment-funds-list/schroders-isf-global-sustainable-growth-fund-LU2289884723>\\n                Schroders Global Growth Fund\\n            </a>\\n        </td>\\n        <td>\\n            25.42\\n        </td>\\n        <td>\\n            0.67%\\n        </td>\\n        <td>\\n            05 Nov, 2021\\n        </td>\\n    </tr>\\n'"
      ]
     },
     "execution_count": 125,
     "metadata": {},
     "output_type": "execute_result"
    }
   ],
   "source": [
    "row"
   ]
  }
 ],
 "metadata": {
  "kernelspec": {
   "display_name": "Python 3",
   "language": "python",
   "name": "python3"
  },
  "language_info": {
   "codemirror_mode": {
    "name": "ipython",
    "version": 3
   },
   "file_extension": ".py",
   "mimetype": "text/x-python",
   "name": "python",
   "nbconvert_exporter": "python",
   "pygments_lexer": "ipython3",
   "version": "3.8.2"
  }
 },
 "nbformat": 4,
 "nbformat_minor": 4
}
