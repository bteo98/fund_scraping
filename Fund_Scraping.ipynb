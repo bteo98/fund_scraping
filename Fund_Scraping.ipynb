{
 "cells": [
  {
   "cell_type": "code",
   "execution_count": 36,
   "metadata": {},
   "outputs": [],
   "source": [
    "from bs4 import BeautifulSoup\n",
    "\n",
    "import requests\n",
    "# Send the mail\n",
    "import smtplib\n",
    "# email body\n",
    "from email.mime.multipart import MIMEMultipart\n",
    "from email.mime.text import MIMEText\n",
    "# system date and time manipulation\n",
    "import datetime\n",
    "import re"
   ]
  },
  {
   "cell_type": "code",
   "execution_count": 119,
   "metadata": {},
   "outputs": [],
   "source": [
    "FUNDS = {\n",
    "    'BlackRock Next Generation Technology Fund': 'https://endowus.com/investment-funds-list/blackrock-bgf-next-generation-technology-fund-LU2290526321',\n",
    "    'BlackRock World Technology Fund': 'https://endowus.com/investment-funds-list/blackrock-bgf-world-technology-fund-LU1852331112',\n",
    "    'JP Morgan China Fund': 'https://endowus.com/investment-funds-list/jp-morgan-china-a-share-opportunities-fund-LU1655091616',\n",
    "    'Franklin Technology Fund': 'https://endowus.com/investment-funds-list/franklin-templeton-franklin-technology-fund-LU1803068979',\n",
    "    'Franklin U.S. Fund': 'https://endowus.com/investment-funds-list/franklin-templeton-u.s.-opportunities-fund-LU0320765059',\n",
    "    'Schroders Climate Change Fund': 'https://endowus.com/investment-funds-list/schroders-isf-global-climate-change-fund-LU0312595415',\n",
    "    'Schroders Global Growth Fund': 'https://endowus.com/investment-funds-list/schroders-isf-global-sustainable-growth-fund-LU2289884723'\n",
    "}\n",
    "\n",
    "now = datetime.datetime.now()"
   ]
  },
  {
   "cell_type": "code",
   "execution_count": 136,
   "metadata": {},
   "outputs": [],
   "source": [
    "content = '''\n",
    "<head>\n",
    "<style>\n",
    "table {\n",
    "  font-family: arial, sans-serif;\n",
    "  border-collapse: collapse;\n",
    "  width: 100%;\n",
    "}\n",
    "\n",
    "td, th {\n",
    "  border: 1px solid #dddddd;\n",
    "  text-align: left;\n",
    "  padding: 8px;\n",
    "}\n",
    "\n",
    "tr:nth-child(even) {\n",
    "  background-color: #dddddd;\n",
    "}\n",
    "\n",
    "a {\n",
    "    color: #0472ff;\n",
    "    text-decoration: none;\n",
    "}\n",
    "</style>\n",
    "</head>\n",
    "<body>\n",
    "\n",
    "<h2>Investment Portfolio</h2>\n",
    "\n",
    "<table>\n",
    "  <tr>\n",
    "    <th>Fund</th>\n",
    "    <th>NAV</th>\n",
    "    <th>Change</th>\n",
    "    <th>Last Update</th>\n",
    "  </tr>\n",
    "'''"
   ]
  },
  {
   "cell_type": "code",
   "execution_count": 90,
   "metadata": {},
   "outputs": [],
   "source": [
    "def get_fund_code(fund):\n",
    "    return fund.split('-')[-1]"
   ]
  },
  {
   "cell_type": "code",
   "execution_count": 99,
   "metadata": {},
   "outputs": [],
   "source": [
    "def get_day_change(soup):\n",
    "    result = soup.find_all('span', class_='mod-ui-data-list__value')\n",
    "    nav = result[0].text\n",
    "    delta = result[1].text.split('/')[-1]\n",
    "    delta = delta.strip()\n",
    "    return nav, delta"
   ]
  },
  {
   "cell_type": "code",
   "execution_count": 114,
   "metadata": {},
   "outputs": [],
   "source": [
    "def get_updated_date(soup):\n",
    "    result = soup.find_all('div', class_='mod-disclaimer')\n",
    "    result_list = result[0].text.split(' ')\n",
    "    month = result_list[-3]\n",
    "    day = result_list[-2]\n",
    "    year = result_list[-1][:-1]\n",
    "    return f'{day} {month}, {year}'"
   ]
  },
  {
   "cell_type": "code",
   "execution_count": 116,
   "metadata": {},
   "outputs": [],
   "source": [
    "def get_fund_soup(fund_code):\n",
    "    link = f'https://markets.ft.com/data/funds/tearsheet/summary?s={fund_code}:SGD'\n",
    "    resp = requests.get(link)\n",
    "    return BeautifulSoup(resp.content, 'html.parser')"
   ]
  },
  {
   "cell_type": "code",
   "execution_count": 134,
   "metadata": {},
   "outputs": [],
   "source": [
    "def convert_to_html(fund_name, fund_detail, nav, delta, updated_date):\n",
    "    return f'''\n",
    "        <tr>\n",
    "            <td>\n",
    "                <a href={fund_detail} target=\"_blank\">\n",
    "                    {fund_name}\n",
    "                </a>\n",
    "            </td>\n",
    "            <td>\n",
    "                {nav}\n",
    "            </td>\n",
    "            <td>\n",
    "                {delta}\n",
    "            </td>\n",
    "            <td>\n",
    "                {updated_date}\n",
    "            </td>\n",
    "        </tr>\n",
    "    '''"
   ]
  },
  {
   "cell_type": "code",
   "execution_count": 137,
   "metadata": {},
   "outputs": [
    {
     "data": {
      "text/plain": [
       "'<head><style>table {  font-family: arial, sans-serif;  border-collapse: collapse;  width: 100%;}td, th {  border: 1px solid #dddddd;  text-align: left;  padding: 8px;}tr:nth-child(even) {  background-color: #dddddd;}a {    color: #0472ff;    text-decoration: none;}</style></head><body><h2>Investment Portfolio</h2><table>  <tr>    <th>Fund</th>    <th>NAV</th>    <th>Change</th>    <th>Last Update</th>  </tr>        <tr>            <td>                <a href=https://endowus.com/investment-funds-list/blackrock-bgf-next-generation-technology-fund-LU2290526321 target=\"_blank\">                    BlackRock Next Generation Technology Fund                </a>            </td>            <td>                10.20            </td>            <td>                0.39%            </td>            <td>                05 Nov, 2021            </td>        </tr>            <tr>            <td>                <a href=https://endowus.com/investment-funds-list/blackrock-bgf-world-technology-fund-LU1852331112 target=\"_blank\">                    BlackRock World Technology Fund                </a>            </td>            <td>                24.50            </td>            <td>                0.33%            </td>            <td>                05 Nov, 2021            </td>        </tr>            <tr>            <td>                <a href=https://endowus.com/investment-funds-list/jp-morgan-china-a-share-opportunities-fund-LU1655091616 target=\"_blank\">                    JP Morgan China Fund                </a>            </td>            <td>                20.71            </td>            <td>                -0.62%            </td>            <td>                05 Nov, 2021            </td>        </tr>            <tr>            <td>                <a href=https://endowus.com/investment-funds-list/franklin-templeton-franklin-technology-fund-LU1803068979 target=\"_blank\">                    Franklin Technology Fund                </a>            </td>            <td>                27.74            </td>            <td>                0.76%            </td>            <td>                05 Nov, 2021            </td>        </tr>            <tr>            <td>                <a href=https://endowus.com/investment-funds-list/franklin-templeton-u.s.-opportunities-fund-LU0320765059 target=\"_blank\">                    Franklin U.S. Fund                </a>            </td>            <td>                41.00            </td>            <td>                0.34%            </td>            <td>                05 Nov, 2021            </td>        </tr>            <tr>            <td>                <a href=https://endowus.com/investment-funds-list/schroders-isf-global-climate-change-fund-LU0312595415 target=\"_blank\">                    Schroders Climate Change Fund                </a>            </td>            <td>                25.42            </td>            <td>                -0.04%            </td>            <td>                05 Nov, 2021            </td>        </tr>            <tr>            <td>                <a href=https://endowus.com/investment-funds-list/schroders-isf-global-sustainable-growth-fund-LU2289884723 target=\"_blank\">                    Schroders Global Growth Fund                </a>            </td>            <td>                118.82            </td>            <td>                0.67%            </td>            <td>                05 Nov, 2021            </td>        </tr>    '"
      ]
     },
     "execution_count": 137,
     "metadata": {},
     "output_type": "execute_result"
    }
   ],
   "source": [
    "print(\"Scraping in progress\")\n",
    "for fund_name, fund_detail in FUNDS.items():\n",
    "    print(f'Scraping {fund_name}')\n",
    "    fund_code = get_fund_code(fund_detail)\n",
    "    soup = get_fund_soup(fund_code)\n",
    "    nav, delta = get_day_change(soup)\n",
    "    updated_date = get_updated_date(soup)\n",
    "    content += convert_to_html(fund_name, fund_detail, nav, delta, updated_date)\n",
    "content.replace('\\n', '')"
   ]
  },
  {
   "cell_type": "code",
   "execution_count": 138,
   "metadata": {},
   "outputs": [
    {
     "name": "stdout",
     "output_type": "stream",
     "text": [
      "Composing Email\n"
     ]
    }
   ],
   "source": [
    "print('Composing Email')\n",
    "\n",
    "SERVER = 'smtp.gmail.com' # \"your smtp server\"\n",
    "PORT = 587 # your port number\n",
    "FROM =  'bteocoding@gmail.com' # \"your from email id\"\n",
    "TO = 'tteo43@gmail.com' # \"your to email ids\"  # can be a list\n",
    "PASS = 'P@ssw0rd4523' # \"your email id's password\""
   ]
  },
  {
   "cell_type": "code",
   "execution_count": 139,
   "metadata": {},
   "outputs": [],
   "source": [
    "msg = MIMEMultipart()\n",
    "msg['Subject'] = 'Daily Investment Portfolio Update' + ' ' + str(now.day) + '-' + str(now.month) + '-' + str(\n",
    "    now.year)\n",
    "msg['From'] = FROM\n",
    "msg['To'] = TO\n",
    "msg.attach(MIMEText(content, 'html'))"
   ]
  },
  {
   "cell_type": "code",
   "execution_count": 140,
   "metadata": {},
   "outputs": [
    {
     "name": "stdout",
     "output_type": "stream",
     "text": [
      "Initiating Server...\n"
     ]
    },
    {
     "name": "stderr",
     "output_type": "stream",
     "text": [
      "send: 'ehlo [192.168.18.12]\\r\\n'\n",
      "reply: b'250-smtp.gmail.com at your service, [2404:e801:2001:d3d:41a9:cae5:cec1:a8c2]\\r\\n'\n",
      "reply: b'250-SIZE 35882577\\r\\n'\n",
      "reply: b'250-8BITMIME\\r\\n'\n",
      "reply: b'250-STARTTLS\\r\\n'\n",
      "reply: b'250-ENHANCEDSTATUSCODES\\r\\n'\n",
      "reply: b'250-PIPELINING\\r\\n'\n",
      "reply: b'250-CHUNKING\\r\\n'\n",
      "reply: b'250 SMTPUTF8\\r\\n'\n",
      "reply: retcode (250); Msg: b'smtp.gmail.com at your service, [2404:e801:2001:d3d:41a9:cae5:cec1:a8c2]\\nSIZE 35882577\\n8BITMIME\\nSTARTTLS\\nENHANCEDSTATUSCODES\\nPIPELINING\\nCHUNKING\\nSMTPUTF8'\n",
      "send: 'STARTTLS\\r\\n'\n",
      "reply: b'220 2.0.0 Ready to start TLS\\r\\n'\n",
      "reply: retcode (220); Msg: b'2.0.0 Ready to start TLS'\n",
      "send: 'ehlo [192.168.18.12]\\r\\n'\n",
      "reply: b'250-smtp.gmail.com at your service, [2404:e801:2001:d3d:41a9:cae5:cec1:a8c2]\\r\\n'\n",
      "reply: b'250-SIZE 35882577\\r\\n'\n",
      "reply: b'250-8BITMIME\\r\\n'\n",
      "reply: b'250-AUTH LOGIN PLAIN XOAUTH2 PLAIN-CLIENTTOKEN OAUTHBEARER XOAUTH\\r\\n'\n",
      "reply: b'250-ENHANCEDSTATUSCODES\\r\\n'\n",
      "reply: b'250-PIPELINING\\r\\n'\n",
      "reply: b'250-CHUNKING\\r\\n'\n",
      "reply: b'250 SMTPUTF8\\r\\n'\n",
      "reply: retcode (250); Msg: b'smtp.gmail.com at your service, [2404:e801:2001:d3d:41a9:cae5:cec1:a8c2]\\nSIZE 35882577\\n8BITMIME\\nAUTH LOGIN PLAIN XOAUTH2 PLAIN-CLIENTTOKEN OAUTHBEARER XOAUTH\\nENHANCEDSTATUSCODES\\nPIPELINING\\nCHUNKING\\nSMTPUTF8'\n",
      "send: 'AUTH PLAIN AGJ0ZW9jb2RpbmdAZ21haWwuY29tAFBAc3N3MHJkNDUyMw==\\r\\n'\n",
      "reply: b'235 2.7.0 Accepted\\r\\n'\n",
      "reply: retcode (235); Msg: b'2.7.0 Accepted'\n",
      "send: 'mail FROM:<bteocoding@gmail.com> size=4163\\r\\n'\n",
      "reply: b'250 2.1.0 OK pi17sm10239309pjb.34 - gsmtp\\r\\n'\n",
      "reply: retcode (250); Msg: b'2.1.0 OK pi17sm10239309pjb.34 - gsmtp'\n",
      "send: 'rcpt TO:<tteo43@gmail.com>\\r\\n'\n",
      "reply: b'250 2.1.5 OK pi17sm10239309pjb.34 - gsmtp\\r\\n'\n",
      "reply: retcode (250); Msg: b'2.1.5 OK pi17sm10239309pjb.34 - gsmtp'\n",
      "send: 'data\\r\\n'\n",
      "reply: b'354  Go ahead pi17sm10239309pjb.34 - gsmtp\\r\\n'\n",
      "reply: retcode (354); Msg: b'Go ahead pi17sm10239309pjb.34 - gsmtp'\n",
      "data: (354, b'Go ahead pi17sm10239309pjb.34 - gsmtp')\n",
      "send: b'Content-Type: multipart/mixed; boundary=\"===============0093390619091683776==\"\\r\\nMIME-Version: 1.0\\r\\nSubject: Daily Investment Portfolio Update 8-11-2021\\r\\nFrom: bteocoding@gmail.com\\r\\nTo: tteo43@gmail.com\\r\\n\\r\\n--===============0093390619091683776==\\r\\nContent-Type: text/html; charset=\"us-ascii\"\\r\\nMIME-Version: 1.0\\r\\nContent-Transfer-Encoding: 7bit\\r\\n\\r\\n\\r\\n<head>\\r\\n<style>\\r\\ntable {\\r\\n  font-family: arial, sans-serif;\\r\\n  border-collapse: collapse;\\r\\n  width: 100%;\\r\\n}\\r\\n\\r\\ntd, th {\\r\\n  border: 1px solid #dddddd;\\r\\n  text-align: left;\\r\\n  padding: 8px;\\r\\n}\\r\\n\\r\\ntr:nth-child(even) {\\r\\n  background-color: #dddddd;\\r\\n}\\r\\n\\r\\na {\\r\\n    color: #0472ff;\\r\\n    text-decoration: none;\\r\\n}\\r\\n</style>\\r\\n</head>\\r\\n<body>\\r\\n\\r\\n<h2>Investment Portfolio</h2>\\r\\n\\r\\n<table>\\r\\n  <tr>\\r\\n    <th>Fund</th>\\r\\n    <th>NAV</th>\\r\\n    <th>Change</th>\\r\\n    <th>Last Update</th>\\r\\n  </tr>\\r\\n\\r\\n        <tr>\\r\\n            <td>\\r\\n                <a href=https://endowus.com/investment-funds-list/blackrock-bgf-next-generation-technology-fund-LU2290526321 target=\"_blank\">\\r\\n                    BlackRock Next Generation Technology Fund\\r\\n                </a>\\r\\n            </td>\\r\\n            <td>\\r\\n                10.20\\r\\n            </td>\\r\\n            <td>\\r\\n                0.39%\\r\\n            </td>\\r\\n            <td>\\r\\n                05 Nov, 2021\\r\\n            </td>\\r\\n        </tr>\\r\\n    \\r\\n        <tr>\\r\\n            <td>\\r\\n                <a href=https://endowus.com/investment-funds-list/blackrock-bgf-world-technology-fund-LU1852331112 target=\"_blank\">\\r\\n                    BlackRock World Technology Fund\\r\\n                </a>\\r\\n            </td>\\r\\n            <td>\\r\\n                24.50\\r\\n            </td>\\r\\n            <td>\\r\\n                0.33%\\r\\n            </td>\\r\\n            <td>\\r\\n                05 Nov, 2021\\r\\n            </td>\\r\\n        </tr>\\r\\n    \\r\\n        <tr>\\r\\n            <td>\\r\\n                <a href=https://endowus.com/investment-funds-list/jp-morgan-china-a-share-opportunities-fund-LU1655091616 target=\"_blank\">\\r\\n                    JP Morgan China Fund\\r\\n                </a>\\r\\n            </td>\\r\\n            <td>\\r\\n                20.71\\r\\n            </td>\\r\\n            <td>\\r\\n                -0.62%\\r\\n            </td>\\r\\n            <td>\\r\\n                05 Nov, 2021\\r\\n            </td>\\r\\n        </tr>\\r\\n    \\r\\n        <tr>\\r\\n            <td>\\r\\n                <a href=https://endowus.com/investment-funds-list/franklin-templeton-franklin-technology-fund-LU1803068979 target=\"_blank\">\\r\\n                    Franklin Technology Fund\\r\\n                </a>\\r\\n            </td>\\r\\n            <td>\\r\\n                27.74\\r\\n            </td>\\r\\n            <td>\\r\\n                0.76%\\r\\n            </td>\\r\\n            <td>\\r\\n                05 Nov, 2021\\r\\n            </td>\\r\\n        </tr>\\r\\n    \\r\\n        <tr>\\r\\n            <td>\\r\\n                <a href=https://endowus.com/investment-funds-list/franklin-templeton-u.s.-opportunities-fund-LU0320765059 target=\"_blank\">\\r\\n                    Franklin U.S. Fund\\r\\n                </a>\\r\\n            </td>\\r\\n            <td>\\r\\n                41.00\\r\\n            </td>\\r\\n            <td>\\r\\n                0.34%\\r\\n            </td>\\r\\n            <td>\\r\\n                05 Nov, 2021\\r\\n            </td>\\r\\n        </tr>\\r\\n    \\r\\n        <tr>\\r\\n            <td>\\r\\n                <a href=https://endowus.com/investment-funds-list/schroders-isf-global-climate-change-fund-LU0312595415 target=\"_blank\">\\r\\n                    Schroders Climate Change Fund\\r\\n                </a>\\r\\n            </td>\\r\\n            <td>\\r\\n                25.42\\r\\n            </td>\\r\\n            <td>\\r\\n                -0.04%\\r\\n            </td>\\r\\n            <td>\\r\\n                05 Nov, 2021\\r\\n            </td>\\r\\n        </tr>\\r\\n    \\r\\n        <tr>\\r\\n            <td>\\r\\n                <a href=https://endowus.com/investment-funds-list/schroders-isf-global-sustainable-growth-fund-LU2289884723 target=\"_blank\">\\r\\n                    Schroders Global Growth Fund\\r\\n                </a>\\r\\n            </td>\\r\\n            <td>\\r\\n                118.82\\r\\n            </td>\\r\\n            <td>\\r\\n                0.67%\\r\\n            </td>\\r\\n            <td>\\r\\n                05 Nov, 2021\\r\\n            </td>\\r\\n        </tr>\\r\\n    \\r\\n--===============0093390619091683776==--\\r\\n.\\r\\n'\n"
     ]
    },
    {
     "name": "stdout",
     "output_type": "stream",
     "text": [
      "Email Sent...\n"
     ]
    },
    {
     "name": "stderr",
     "output_type": "stream",
     "text": [
      "reply: b'250 2.0.0 OK  1636362293 pi17sm10239309pjb.34 - gsmtp\\r\\n'\n",
      "reply: retcode (250); Msg: b'2.0.0 OK  1636362293 pi17sm10239309pjb.34 - gsmtp'\n",
      "data: (250, b'2.0.0 OK  1636362293 pi17sm10239309pjb.34 - gsmtp')\n",
      "send: 'quit\\r\\n'\n",
      "reply: b'221 2.0.0 closing connection pi17sm10239309pjb.34 - gsmtp\\r\\n'\n",
      "reply: retcode (221); Msg: b'2.0.0 closing connection pi17sm10239309pjb.34 - gsmtp'\n"
     ]
    },
    {
     "data": {
      "text/plain": [
       "(221, b'2.0.0 closing connection pi17sm10239309pjb.34 - gsmtp')"
      ]
     },
     "execution_count": 140,
     "metadata": {},
     "output_type": "execute_result"
    }
   ],
   "source": [
    "print('Initiating Server...')\n",
    "\n",
    "server = smtplib.SMTP(SERVER, PORT)\n",
    "#server = smtplib.SMTP_SSL('smtp.gmail.com', 465)\n",
    "server.set_debuglevel(1)\n",
    "server.ehlo()\n",
    "server.starttls()\n",
    "#server.ehlo\n",
    "server.login(FROM, PASS)\n",
    "server.sendmail(FROM, TO, msg.as_string())\n",
    "\n",
    "print('Email Sent...')\n",
    "\n",
    "server.quit()"
   ]
  }
 ],
 "metadata": {
  "kernelspec": {
   "display_name": "Python 3",
   "language": "python",
   "name": "python3"
  },
  "language_info": {
   "codemirror_mode": {
    "name": "ipython",
    "version": 3
   },
   "file_extension": ".py",
   "mimetype": "text/x-python",
   "name": "python",
   "nbconvert_exporter": "python",
   "pygments_lexer": "ipython3",
   "version": "3.8.2"
  }
 },
 "nbformat": 4,
 "nbformat_minor": 4
}
